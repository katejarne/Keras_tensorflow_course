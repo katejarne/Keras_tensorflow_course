{
 "cells": [
  {
   "cell_type": "code",
   "execution_count": 84,
   "metadata": {},
   "outputs": [
    {
     "name": "stderr",
     "output_type": "stream",
     "text": [
      "/home/kathy/.virtualenvs/keras_py_3_gpu/lib/python3.6/site-packages/tensorflow_core/python/client/session.py:1752: UserWarning: An interactive session is already active. This can cause out-of-memory errors in some cases. You must explicitly call `InteractiveSession.close()` to release resources held by the other session(s).\n",
      "  warnings.warn('An interactive session is already active. This can '\n"
     ]
    },
    {
     "name": "stdout",
     "output_type": "stream",
     "text": [
      "(60000, 28, 28)\n",
      "(60000,)\n"
     ]
    }
   ],
   "source": [
    "## To work well with gpu memory\n",
    "from tensorflow.compat.v1 import ConfigProto\n",
    "from tensorflow.compat.v1 import InteractiveSession\n",
    "\n",
    "config = ConfigProto()\n",
    "config.gpu_options.allow_growth = True\n",
    "session = InteractiveSession(config=config)\n",
    "\n",
    "#You should  import these packages and  the MNIST dataset\n",
    "\n",
    "import numpy as np\n",
    "import mnist\n",
    "import keras\n",
    "\n",
    "# The first time you run this might be a bit slow, since the\n",
    "# mnist package has to download and cache the data.\n",
    "train_images = mnist.train_images()\n",
    "train_labels = mnist.train_labels()\n",
    "\n",
    "print(train_images.shape) # (60000, 28, 28)\n",
    "print(train_labels.shape) # (60000,)\n"
   ]
  },
  {
   "cell_type": "code",
   "execution_count": 85,
   "metadata": {},
   "outputs": [
    {
     "name": "stdout",
     "output_type": "stream",
     "text": [
      "(60000, 28, 28, 1)\n",
      "(10000, 28, 28, 1)\n"
     ]
    }
   ],
   "source": [
    "'''\n",
    "Before we begin, we’ll normalize the image pixel values from [0, 255] to [-0.5, 0.5] \n",
    "to make our network easier to train (using smaller, centered values usually leads to better results). \n",
    "We’ll also reshape each image from (28, 28) to (28, 28, 1)\n",
    "because Keras requires the third dimension.\n",
    "'''\n",
    "\n",
    "test_images = mnist.test_images()\n",
    "test_labels = mnist.test_labels()\n",
    "\n",
    "# Normalize the images.\n",
    "train_images = (train_images / 255) - 0.5\n",
    "test_images = (test_images / 255) - 0.5\n",
    "\n",
    "# Reshape the images.\n",
    "train_images = np.expand_dims(train_images, axis=3)\n",
    "test_images = np.expand_dims(test_images, axis=3)\n",
    "\n",
    "print(train_images.shape) # (60000, 28, 28, 1)\n",
    "print(test_images.shape)  # (10000, 28, 28, 1)\n"
   ]
  },
  {
   "cell_type": "code",
   "execution_count": 86,
   "metadata": {},
   "outputs": [
    {
     "data": {
      "text/plain": [
       "'\\n- num_filters, filter_size, and pool_size are self-explanatory variables that set the hyperparameters for our CNN.\\n- The first layer in any Sequential model must specify the input_shape, so we do so on Conv2D. \\n- Once this input shape is specified, Keras will automatically infer the shapes of inputs for later layers.\\n- The output Softmax layer has 10 nodes, one for each class.\\n'"
      ]
     },
     "execution_count": 86,
     "metadata": {},
     "output_type": "execute_result"
    }
   ],
   "source": [
    "'''\n",
    "Every Keras model is either built using the Sequential class,\n",
    "which represents a linear stack of layers, or the functional Model class, which is more customizeable.\n",
    "We’ll be using the simpler Sequential model, since our CNN will be a linear stack of layers.\n",
    "We start by instantiating a Sequential model:\n",
    "'''\n",
    "from keras.models import Sequential\n",
    "from keras.layers import Conv2D, MaxPooling2D, Dense, Flatten\n",
    "\n",
    "num_filters = 8\n",
    "filter_size = 3\n",
    "pool_size = 2\n",
    "\n",
    "model = Sequential([\n",
    "  Conv2D(num_filters, filter_size, input_shape=(28, 28, 1)),\n",
    "  MaxPooling2D(pool_size=pool_size),\n",
    "  Flatten(),\n",
    "  Dense(10, activation='softmax'),\n",
    "])\n",
    "\n",
    "'''\n",
    "- num_filters, filter_size, and pool_size are self-explanatory variables that set the hyperparameters for our CNN.\n",
    "- The first layer in any Sequential model must specify the input_shape, so we do so on Conv2D. \n",
    "- Once this input shape is specified, Keras will automatically infer the shapes of inputs for later layers.\n",
    "- The output Softmax layer has 10 nodes, one for each class.\n",
    "'''\n"
   ]
  },
  {
   "cell_type": "code",
   "execution_count": 87,
   "metadata": {},
   "outputs": [],
   "source": [
    "'''\n",
    "\n",
    "Compiling the Model\n",
    "Before we can begin training, we need to configure the training process. \n",
    "We decide 3 key factors during the compilation step:\n",
    "\n",
    "The optimizer. We’ll stick with a pretty good default: the Adam gradient-based optimizer. \n",
    "Keras has many other optimizers you can look into as well.\n",
    "The loss function. Since we’re using a Softmax output layer, we’ll use the Cross-Entropy loss.\n",
    "Keras distinguishes between binary_crossentropy (2 classes) and categorical_crossentropy (>2 classes), \n",
    "so we’ll use the latter. See all Keras losses.\n",
    "A list of metrics. Since this is a classification problem, we’ll just have Keras report on the accuracy metric.\n",
    "Here’s what that compilation looks like:\n",
    "\n",
    "'''\n",
    "model.compile('adam',loss='categorical_crossentropy',metrics=['accuracy'],)"
   ]
  },
  {
   "cell_type": "code",
   "execution_count": 88,
   "metadata": {},
   "outputs": [
    {
     "name": "stdout",
     "output_type": "stream",
     "text": [
      "5\n",
      "Train on 60000 samples, validate on 10000 samples\n",
      "Epoch 1/3\n",
      "60000/60000 [==============================] - 10s 161us/step - loss: 0.3637 - accuracy: 0.8954 - val_loss: 0.2192 - val_accuracy: 0.9388\n",
      "Epoch 2/3\n",
      "60000/60000 [==============================] - 10s 159us/step - loss: 0.1850 - accuracy: 0.9478 - val_loss: 0.1477 - val_accuracy: 0.9554\n",
      "Epoch 3/3\n",
      "60000/60000 [==============================] - 10s 159us/step - loss: 0.1325 - accuracy: 0.9623 - val_loss: 0.1185 - val_accuracy: 0.9645\n"
     ]
    },
    {
     "data": {
      "text/plain": [
       "<keras.callbacks.callbacks.History at 0x7fe9611baf60>"
      ]
     },
     "execution_count": 88,
     "metadata": {},
     "output_type": "execute_result"
    }
   ],
   "source": [
    "'''\n",
    "Training a model in Keras literally consists only of calling fit() and specifying some parameters. \n",
    "There are a lot of possible parameters, but we’ll only supply these:\n",
    "\n",
    "The training data (images and labels), commonly known as X and Y, respectively.\n",
    "The number of epochs (iterations over the entire dataset) to train for.\n",
    "The validation data (or test data), which is used during training to periodically measure \n",
    "the network’s performance against data it hasn’t seen before.\n",
    "\n",
    "There’s one thing we have to be careful about:\n",
    "Keras expects the training targets to be 10-dimensional vectors, \n",
    "since there are 10 nodes in our Softmax output layer. Right now,\n",
    "our train_labels and test_labels arrays contain single integers representing the class for each image:\n",
    "'''\n",
    "train_labels = mnist.train_labels()\n",
    "print(train_labels[0]) # 5\n",
    "\n",
    "'''\n",
    "import mnist\n",
    "\n",
    "train_labels = mnist.train_labels()\n",
    "print(train_labels[0]) # 5\n",
    "Conveniently, Keras has a utility method that fixes this exact issue: to_categorical. \n",
    "It turns our array of class integers into an array of one-hot vectors instead.\n",
    "For example, 2 would become [0, 0, 1, 0, 0, 0, 0, 0, 0, 0] (it’s zero-indexed).\n",
    "\n",
    "Here’s what that looks like:\n",
    "\n",
    "'''\n",
    "\n",
    "from keras.utils import to_categorical\n",
    "\n",
    "model.fit(  train_images,  to_categorical(train_labels),  epochs=3, \n",
    "          validation_data=(test_images, to_categorical(test_labels)),\n",
    ")"
   ]
  },
  {
   "cell_type": "code",
   "execution_count": 89,
   "metadata": {},
   "outputs": [],
   "source": [
    "model.save_weights('cnn.h5')"
   ]
  },
  {
   "cell_type": "code",
   "execution_count": 90,
   "metadata": {},
   "outputs": [
    {
     "name": "stdout",
     "output_type": "stream",
     "text": [
      "[7 2 1 0 4]\n",
      "[7 2 1 0 4]\n"
     ]
    }
   ],
   "source": [
    "'''\n",
    "Using the trained model to make predictions is easy: we pass an array of inputs to predict() \n",
    "and it returns an array of outputs. Keep in mind that the output of our network is 10 probabilities \n",
    "(because of softmax),\n",
    "so we’ll use np.argmax() to turn those into actual digits.\n",
    "'''\n",
    "\n",
    "# Predict on the first 5 test images.\n",
    "predictions = model.predict(test_images[:5])\n",
    "\n",
    "# Print our model's predictions.\n",
    "print(np.argmax(predictions, axis=1)) # [7, 2, 1, 0, 4]\n",
    "\n",
    "# Check our predictions against the ground truths.\n",
    "print(test_labels[:5]) # [7, 2, 1, 0, 4]\n"
   ]
  },
  {
   "cell_type": "code",
   "execution_count": 91,
   "metadata": {},
   "outputs": [
    {
     "name": "stdout",
     "output_type": "stream",
     "text": [
      "(28, 28, 1)\n"
     ]
    },
    {
     "data": {
      "image/png": "[encoded data removed]",
      "text/plain": [
       "<Figure size 432x288 with 5 Axes>"
      ]
     },
     "metadata": {
      "needs_background": "light"
     },
     "output_type": "display_data"
    }
   ],
   "source": [
    "from matplotlib import pyplot\n",
    "\n",
    "print(test_images[0].shape)\n",
    "\n",
    "for i in range(0, 5):\n",
    "    pyplot.subplot(330 + 1 + i)\n",
    "    pyplot.imshow(test_images[i].reshape(28, 28),cmap='Greys')"
   ]
  },
  {
   "cell_type": "code",
   "execution_count": null,
   "metadata": {},
   "outputs": [],
   "source": []
  }
 ],
 "metadata": {
  "kernelspec": {
   "display_name": "Python 3",
   "language": "python",
   "name": "python3"
  },
  "language_info": {
   "codemirror_mode": {
    "name": "ipython",
    "version": 3
   },
   "file_extension": ".py",
   "mimetype": "text/x-python",
   "name": "python",
   "nbconvert_exporter": "python",
   "pygments_lexer": "ipython3",
   "version": "3.6.9"
  }
 },
 "nbformat": 4,
 "nbformat_minor": 4
}
